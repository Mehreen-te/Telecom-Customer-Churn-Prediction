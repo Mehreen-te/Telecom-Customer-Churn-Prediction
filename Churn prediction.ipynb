{
 "cells": [
  {
   "cell_type": "markdown",
   "id": "807fa01e",
   "metadata": {},
   "source": [
    "## Churn Prediction in Telecom Customer dataset"
   ]
  },
  {
   "cell_type": "markdown",
   "id": "57c69659",
   "metadata": {},
   "source": [
    "### Dataset Source: https://learn.datacamp.com/courses/marketing-analytics-predicting-customer-churn-in-python"
   ]
  },
  {
   "cell_type": "markdown",
   "id": "8d2b8899",
   "metadata": {},
   "source": [
    "### Importing required libraries"
   ]
  },
  {
   "cell_type": "code",
   "execution_count": 1,
   "id": "43073608",
   "metadata": {},
   "outputs": [],
   "source": [
    "import pandas as pd\n",
    "import numpy as np\n",
    "import matplotlib.pyplot as plt\n",
    "import seaborn as sns\n",
    "\n",
    "from sklearn.model_selection import train_test_split\n",
    "from sklearn.linear_model import LogisticRegression\n",
    "from sklearn.tree import DecisionTreeClassifier, plot_tree \n",
    "from sklearn.ensemble import RandomForestClassifier\n",
    "\n",
    "from sklearn.model_selection import GridSearchCV\n",
    "from sklearn.preprocessing import StandardScaler\n",
    "from sklearn.preprocessing import MinMaxScaler\n",
    "\n",
    "from sklearn.metrics import accuracy_score, classification_report, confusion_matrix\n",
    "from sklearn.metrics import roc_curve, roc_auc_score, precision_score, recall_score, f1_score\n",
    "from sklearn.metrics import plot_confusion_matrix\n",
    "\n",
    "pd.options.display.max_columns = 100\n",
    "pd.options.display.max_rows = 100\n",
    "\n",
    "import warnings\n",
    "warnings.filterwarnings('ignore')"
   ]
  },
  {
   "cell_type": "markdown",
   "id": "546cb2e7",
   "metadata": {},
   "source": [
    "### Reading dataset"
   ]
  },
  {
   "cell_type": "code",
   "execution_count": 2,
   "id": "b84f9cdb",
   "metadata": {},
   "outputs": [
    {
     "data": {
      "text/html": [
       "<div>\n",
       "<style scoped>\n",
       "    .dataframe tbody tr th:only-of-type {\n",
       "        vertical-align: middle;\n",
       "    }\n",
       "\n",
       "    .dataframe tbody tr th {\n",
       "        vertical-align: top;\n",
       "    }\n",
       "\n",
       "    .dataframe thead th {\n",
       "        text-align: right;\n",
       "    }\n",
       "</style>\n",
       "<table border=\"1\" class=\"dataframe\">\n",
       "  <thead>\n",
       "    <tr style=\"text-align: right;\">\n",
       "      <th></th>\n",
       "      <th>Account_Length</th>\n",
       "      <th>Vmail_Message</th>\n",
       "      <th>Day_Mins</th>\n",
       "      <th>Eve_Mins</th>\n",
       "      <th>Night_Mins</th>\n",
       "      <th>Intl_Mins</th>\n",
       "      <th>CustServ_Calls</th>\n",
       "      <th>Churn</th>\n",
       "      <th>Intl_Plan</th>\n",
       "      <th>Vmail_Plan</th>\n",
       "      <th>Day_Calls</th>\n",
       "      <th>Day_Charge</th>\n",
       "      <th>Eve_Calls</th>\n",
       "      <th>Eve_Charge</th>\n",
       "      <th>Night_Calls</th>\n",
       "      <th>Night_Charge</th>\n",
       "      <th>Intl_Calls</th>\n",
       "      <th>Intl_Charge</th>\n",
       "      <th>State</th>\n",
       "      <th>Area_Code</th>\n",
       "      <th>Phone</th>\n",
       "    </tr>\n",
       "  </thead>\n",
       "  <tbody>\n",
       "    <tr>\n",
       "      <th>0</th>\n",
       "      <td>128</td>\n",
       "      <td>25</td>\n",
       "      <td>265.1</td>\n",
       "      <td>197.4</td>\n",
       "      <td>244.7</td>\n",
       "      <td>10.0</td>\n",
       "      <td>1</td>\n",
       "      <td>no</td>\n",
       "      <td>no</td>\n",
       "      <td>yes</td>\n",
       "      <td>110</td>\n",
       "      <td>45.07</td>\n",
       "      <td>99</td>\n",
       "      <td>16.78</td>\n",
       "      <td>91</td>\n",
       "      <td>11.01</td>\n",
       "      <td>3</td>\n",
       "      <td>2.70</td>\n",
       "      <td>KS</td>\n",
       "      <td>415</td>\n",
       "      <td>382-4657</td>\n",
       "    </tr>\n",
       "    <tr>\n",
       "      <th>1</th>\n",
       "      <td>107</td>\n",
       "      <td>26</td>\n",
       "      <td>161.6</td>\n",
       "      <td>195.5</td>\n",
       "      <td>254.4</td>\n",
       "      <td>13.7</td>\n",
       "      <td>1</td>\n",
       "      <td>no</td>\n",
       "      <td>no</td>\n",
       "      <td>yes</td>\n",
       "      <td>123</td>\n",
       "      <td>27.47</td>\n",
       "      <td>103</td>\n",
       "      <td>16.62</td>\n",
       "      <td>103</td>\n",
       "      <td>11.45</td>\n",
       "      <td>3</td>\n",
       "      <td>3.70</td>\n",
       "      <td>OH</td>\n",
       "      <td>415</td>\n",
       "      <td>371-7191</td>\n",
       "    </tr>\n",
       "    <tr>\n",
       "      <th>2</th>\n",
       "      <td>137</td>\n",
       "      <td>0</td>\n",
       "      <td>243.4</td>\n",
       "      <td>121.2</td>\n",
       "      <td>162.6</td>\n",
       "      <td>12.2</td>\n",
       "      <td>0</td>\n",
       "      <td>no</td>\n",
       "      <td>no</td>\n",
       "      <td>no</td>\n",
       "      <td>114</td>\n",
       "      <td>41.38</td>\n",
       "      <td>110</td>\n",
       "      <td>10.30</td>\n",
       "      <td>104</td>\n",
       "      <td>7.32</td>\n",
       "      <td>5</td>\n",
       "      <td>3.29</td>\n",
       "      <td>NJ</td>\n",
       "      <td>415</td>\n",
       "      <td>358-1921</td>\n",
       "    </tr>\n",
       "    <tr>\n",
       "      <th>3</th>\n",
       "      <td>84</td>\n",
       "      <td>0</td>\n",
       "      <td>299.4</td>\n",
       "      <td>61.9</td>\n",
       "      <td>196.9</td>\n",
       "      <td>6.6</td>\n",
       "      <td>2</td>\n",
       "      <td>no</td>\n",
       "      <td>yes</td>\n",
       "      <td>no</td>\n",
       "      <td>71</td>\n",
       "      <td>50.90</td>\n",
       "      <td>88</td>\n",
       "      <td>5.26</td>\n",
       "      <td>89</td>\n",
       "      <td>8.86</td>\n",
       "      <td>7</td>\n",
       "      <td>1.78</td>\n",
       "      <td>OH</td>\n",
       "      <td>408</td>\n",
       "      <td>375-9999</td>\n",
       "    </tr>\n",
       "    <tr>\n",
       "      <th>4</th>\n",
       "      <td>75</td>\n",
       "      <td>0</td>\n",
       "      <td>166.7</td>\n",
       "      <td>148.3</td>\n",
       "      <td>186.9</td>\n",
       "      <td>10.1</td>\n",
       "      <td>3</td>\n",
       "      <td>no</td>\n",
       "      <td>yes</td>\n",
       "      <td>no</td>\n",
       "      <td>113</td>\n",
       "      <td>28.34</td>\n",
       "      <td>122</td>\n",
       "      <td>12.61</td>\n",
       "      <td>121</td>\n",
       "      <td>8.41</td>\n",
       "      <td>3</td>\n",
       "      <td>2.73</td>\n",
       "      <td>OK</td>\n",
       "      <td>415</td>\n",
       "      <td>330-6626</td>\n",
       "    </tr>\n",
       "  </tbody>\n",
       "</table>\n",
       "</div>"
      ],
      "text/plain": [
       "   Account_Length  Vmail_Message  Day_Mins  Eve_Mins  Night_Mins  Intl_Mins  \\\n",
       "0             128             25     265.1     197.4       244.7       10.0   \n",
       "1             107             26     161.6     195.5       254.4       13.7   \n",
       "2             137              0     243.4     121.2       162.6       12.2   \n",
       "3              84              0     299.4      61.9       196.9        6.6   \n",
       "4              75              0     166.7     148.3       186.9       10.1   \n",
       "\n",
       "   CustServ_Calls Churn Intl_Plan Vmail_Plan  Day_Calls  Day_Charge  \\\n",
       "0               1    no        no        yes        110       45.07   \n",
       "1               1    no        no        yes        123       27.47   \n",
       "2               0    no        no         no        114       41.38   \n",
       "3               2    no       yes         no         71       50.90   \n",
       "4               3    no       yes         no        113       28.34   \n",
       "\n",
       "   Eve_Calls  Eve_Charge  Night_Calls  Night_Charge  Intl_Calls  Intl_Charge  \\\n",
       "0         99       16.78           91         11.01           3         2.70   \n",
       "1        103       16.62          103         11.45           3         3.70   \n",
       "2        110       10.30          104          7.32           5         3.29   \n",
       "3         88        5.26           89          8.86           7         1.78   \n",
       "4        122       12.61          121          8.41           3         2.73   \n",
       "\n",
       "  State  Area_Code     Phone  \n",
       "0    KS        415  382-4657  \n",
       "1    OH        415  371-7191  \n",
       "2    NJ        415  358-1921  \n",
       "3    OH        408  375-9999  \n",
       "4    OK        415  330-6626  "
      ]
     },
     "metadata": {},
     "output_type": "display_data"
    },
    {
     "name": "stdout",
     "output_type": "stream",
     "text": [
      "dataframe shape: (3333, 21)\n"
     ]
    }
   ],
   "source": [
    "df = pd.read_csv(\"Churn.csv\")\n",
    "\n",
    "display(df.head())\n",
    "print(\"dataframe shape:\",df.shape)"
   ]
  },
  {
   "cell_type": "markdown",
   "id": "4f00c509",
   "metadata": {},
   "source": [
    "### Dataset information"
   ]
  },
  {
   "cell_type": "code",
   "execution_count": 3,
   "id": "ff1b992f",
   "metadata": {},
   "outputs": [
    {
     "name": "stdout",
     "output_type": "stream",
     "text": [
      "<class 'pandas.core.frame.DataFrame'>\n",
      "RangeIndex: 3333 entries, 0 to 3332\n",
      "Data columns (total 21 columns):\n",
      " #   Column          Non-Null Count  Dtype  \n",
      "---  ------          --------------  -----  \n",
      " 0   Account_Length  3333 non-null   int64  \n",
      " 1   Vmail_Message   3333 non-null   int64  \n",
      " 2   Day_Mins        3333 non-null   float64\n",
      " 3   Eve_Mins        3333 non-null   float64\n",
      " 4   Night_Mins      3333 non-null   float64\n",
      " 5   Intl_Mins       3333 non-null   float64\n",
      " 6   CustServ_Calls  3333 non-null   int64  \n",
      " 7   Churn           3333 non-null   object \n",
      " 8   Intl_Plan       3333 non-null   object \n",
      " 9   Vmail_Plan      3333 non-null   object \n",
      " 10  Day_Calls       3333 non-null   int64  \n",
      " 11  Day_Charge      3333 non-null   float64\n",
      " 12  Eve_Calls       3333 non-null   int64  \n",
      " 13  Eve_Charge      3333 non-null   float64\n",
      " 14  Night_Calls     3333 non-null   int64  \n",
      " 15  Night_Charge    3333 non-null   float64\n",
      " 16  Intl_Calls      3333 non-null   int64  \n",
      " 17  Intl_Charge     3333 non-null   float64\n",
      " 18  State           3333 non-null   object \n",
      " 19  Area_Code       3333 non-null   int64  \n",
      " 20  Phone           3333 non-null   object \n",
      "dtypes: float64(8), int64(8), object(5)\n",
      "memory usage: 546.9+ KB\n"
     ]
    }
   ],
   "source": [
    "df.info()"
   ]
  },
  {
   "cell_type": "markdown",
   "id": "858800c9",
   "metadata": {},
   "source": [
    "#### Observation\n",
    "- There are no missing value."
   ]
  },
  {
   "cell_type": "markdown",
   "id": "9d62bde8",
   "metadata": {},
   "source": [
    "### Data Preprocessing"
   ]
  },
  {
   "cell_type": "markdown",
   "id": "f7a027d8",
   "metadata": {},
   "source": [
    "#### Dropping irrelevant features from the dataset"
   ]
  },
  {
   "cell_type": "code",
   "execution_count": 4,
   "id": "e9f1db60",
   "metadata": {},
   "outputs": [],
   "source": [
    "df = df.drop(['State', 'Area_Code', 'Phone'], axis=1)"
   ]
  },
  {
   "cell_type": "markdown",
   "id": "90dc5a61",
   "metadata": {},
   "source": [
    "- This has no direct relation with a customer's possibility to churn or not"
   ]
  },
  {
   "cell_type": "markdown",
   "id": "146b9fa3",
   "metadata": {},
   "source": [
    "#### Checking object variable and changing it to numeric variable"
   ]
  },
  {
   "cell_type": "code",
   "execution_count": 5,
   "id": "218fff0b",
   "metadata": {},
   "outputs": [
    {
     "name": "stdout",
     "output_type": "stream",
     "text": [
      "['no' 'yes']\n",
      "['no' 'yes']\n",
      "['yes' 'no']\n"
     ]
    }
   ],
   "source": [
    "print(df['Churn'].unique())\n",
    "print(df['Intl_Plan'].unique())\n",
    "print(df['Vmail_Plan'].unique())"
   ]
  },
  {
   "cell_type": "markdown",
   "id": "6a195740",
   "metadata": {},
   "source": [
    "- Numeric datatype suitable for training a model "
   ]
  },
  {
   "cell_type": "code",
   "execution_count": 6,
   "id": "64423edc",
   "metadata": {},
   "outputs": [
    {
     "data": {
      "text/html": [
       "<div>\n",
       "<style scoped>\n",
       "    .dataframe tbody tr th:only-of-type {\n",
       "        vertical-align: middle;\n",
       "    }\n",
       "\n",
       "    .dataframe tbody tr th {\n",
       "        vertical-align: top;\n",
       "    }\n",
       "\n",
       "    .dataframe thead th {\n",
       "        text-align: right;\n",
       "    }\n",
       "</style>\n",
       "<table border=\"1\" class=\"dataframe\">\n",
       "  <thead>\n",
       "    <tr style=\"text-align: right;\">\n",
       "      <th></th>\n",
       "      <th>Account_Length</th>\n",
       "      <th>Vmail_Message</th>\n",
       "      <th>Day_Mins</th>\n",
       "      <th>Eve_Mins</th>\n",
       "      <th>Night_Mins</th>\n",
       "      <th>Intl_Mins</th>\n",
       "      <th>CustServ_Calls</th>\n",
       "      <th>Churn</th>\n",
       "      <th>Intl_Plan</th>\n",
       "      <th>Vmail_Plan</th>\n",
       "      <th>Day_Calls</th>\n",
       "      <th>Day_Charge</th>\n",
       "      <th>Eve_Calls</th>\n",
       "      <th>Eve_Charge</th>\n",
       "      <th>Night_Calls</th>\n",
       "      <th>Night_Charge</th>\n",
       "      <th>Intl_Calls</th>\n",
       "      <th>Intl_Charge</th>\n",
       "    </tr>\n",
       "  </thead>\n",
       "  <tbody>\n",
       "    <tr>\n",
       "      <th>0</th>\n",
       "      <td>128</td>\n",
       "      <td>25</td>\n",
       "      <td>265.1</td>\n",
       "      <td>197.4</td>\n",
       "      <td>244.7</td>\n",
       "      <td>10.0</td>\n",
       "      <td>1</td>\n",
       "      <td>0</td>\n",
       "      <td>0</td>\n",
       "      <td>1</td>\n",
       "      <td>110</td>\n",
       "      <td>45.07</td>\n",
       "      <td>99</td>\n",
       "      <td>16.78</td>\n",
       "      <td>91</td>\n",
       "      <td>11.01</td>\n",
       "      <td>3</td>\n",
       "      <td>2.70</td>\n",
       "    </tr>\n",
       "    <tr>\n",
       "      <th>1</th>\n",
       "      <td>107</td>\n",
       "      <td>26</td>\n",
       "      <td>161.6</td>\n",
       "      <td>195.5</td>\n",
       "      <td>254.4</td>\n",
       "      <td>13.7</td>\n",
       "      <td>1</td>\n",
       "      <td>0</td>\n",
       "      <td>0</td>\n",
       "      <td>1</td>\n",
       "      <td>123</td>\n",
       "      <td>27.47</td>\n",
       "      <td>103</td>\n",
       "      <td>16.62</td>\n",
       "      <td>103</td>\n",
       "      <td>11.45</td>\n",
       "      <td>3</td>\n",
       "      <td>3.70</td>\n",
       "    </tr>\n",
       "    <tr>\n",
       "      <th>2</th>\n",
       "      <td>137</td>\n",
       "      <td>0</td>\n",
       "      <td>243.4</td>\n",
       "      <td>121.2</td>\n",
       "      <td>162.6</td>\n",
       "      <td>12.2</td>\n",
       "      <td>0</td>\n",
       "      <td>0</td>\n",
       "      <td>0</td>\n",
       "      <td>0</td>\n",
       "      <td>114</td>\n",
       "      <td>41.38</td>\n",
       "      <td>110</td>\n",
       "      <td>10.30</td>\n",
       "      <td>104</td>\n",
       "      <td>7.32</td>\n",
       "      <td>5</td>\n",
       "      <td>3.29</td>\n",
       "    </tr>\n",
       "    <tr>\n",
       "      <th>3</th>\n",
       "      <td>84</td>\n",
       "      <td>0</td>\n",
       "      <td>299.4</td>\n",
       "      <td>61.9</td>\n",
       "      <td>196.9</td>\n",
       "      <td>6.6</td>\n",
       "      <td>2</td>\n",
       "      <td>0</td>\n",
       "      <td>1</td>\n",
       "      <td>0</td>\n",
       "      <td>71</td>\n",
       "      <td>50.90</td>\n",
       "      <td>88</td>\n",
       "      <td>5.26</td>\n",
       "      <td>89</td>\n",
       "      <td>8.86</td>\n",
       "      <td>7</td>\n",
       "      <td>1.78</td>\n",
       "    </tr>\n",
       "    <tr>\n",
       "      <th>4</th>\n",
       "      <td>75</td>\n",
       "      <td>0</td>\n",
       "      <td>166.7</td>\n",
       "      <td>148.3</td>\n",
       "      <td>186.9</td>\n",
       "      <td>10.1</td>\n",
       "      <td>3</td>\n",
       "      <td>0</td>\n",
       "      <td>1</td>\n",
       "      <td>0</td>\n",
       "      <td>113</td>\n",
       "      <td>28.34</td>\n",
       "      <td>122</td>\n",
       "      <td>12.61</td>\n",
       "      <td>121</td>\n",
       "      <td>8.41</td>\n",
       "      <td>3</td>\n",
       "      <td>2.73</td>\n",
       "    </tr>\n",
       "  </tbody>\n",
       "</table>\n",
       "</div>"
      ],
      "text/plain": [
       "   Account_Length  Vmail_Message  Day_Mins  Eve_Mins  Night_Mins  Intl_Mins  \\\n",
       "0             128             25     265.1     197.4       244.7       10.0   \n",
       "1             107             26     161.6     195.5       254.4       13.7   \n",
       "2             137              0     243.4     121.2       162.6       12.2   \n",
       "3              84              0     299.4      61.9       196.9        6.6   \n",
       "4              75              0     166.7     148.3       186.9       10.1   \n",
       "\n",
       "   CustServ_Calls  Churn  Intl_Plan  Vmail_Plan  Day_Calls  Day_Charge  \\\n",
       "0               1      0          0           1        110       45.07   \n",
       "1               1      0          0           1        123       27.47   \n",
       "2               0      0          0           0        114       41.38   \n",
       "3               2      0          1           0         71       50.90   \n",
       "4               3      0          1           0        113       28.34   \n",
       "\n",
       "   Eve_Calls  Eve_Charge  Night_Calls  Night_Charge  Intl_Calls  Intl_Charge  \n",
       "0         99       16.78           91         11.01           3         2.70  \n",
       "1        103       16.62          103         11.45           3         3.70  \n",
       "2        110       10.30          104          7.32           5         3.29  \n",
       "3         88        5.26           89          8.86           7         1.78  \n",
       "4        122       12.61          121          8.41           3         2.73  "
      ]
     },
     "metadata": {},
     "output_type": "display_data"
    },
    {
     "name": "stdout",
     "output_type": "stream",
     "text": [
      "\n",
      "Dataset Variable information:\n",
      "\n",
      "<class 'pandas.core.frame.DataFrame'>\n",
      "RangeIndex: 3333 entries, 0 to 3332\n",
      "Data columns (total 18 columns):\n",
      " #   Column          Non-Null Count  Dtype  \n",
      "---  ------          --------------  -----  \n",
      " 0   Account_Length  3333 non-null   int64  \n",
      " 1   Vmail_Message   3333 non-null   int64  \n",
      " 2   Day_Mins        3333 non-null   float64\n",
      " 3   Eve_Mins        3333 non-null   float64\n",
      " 4   Night_Mins      3333 non-null   float64\n",
      " 5   Intl_Mins       3333 non-null   float64\n",
      " 6   CustServ_Calls  3333 non-null   int64  \n",
      " 7   Churn           3333 non-null   int64  \n",
      " 8   Intl_Plan       3333 non-null   int64  \n",
      " 9   Vmail_Plan      3333 non-null   int64  \n",
      " 10  Day_Calls       3333 non-null   int64  \n",
      " 11  Day_Charge      3333 non-null   float64\n",
      " 12  Eve_Calls       3333 non-null   int64  \n",
      " 13  Eve_Charge      3333 non-null   float64\n",
      " 14  Night_Calls     3333 non-null   int64  \n",
      " 15  Night_Charge    3333 non-null   float64\n",
      " 16  Intl_Calls      3333 non-null   int64  \n",
      " 17  Intl_Charge     3333 non-null   float64\n",
      "dtypes: float64(8), int64(10)\n",
      "memory usage: 468.8 KB\n"
     ]
    }
   ],
   "source": [
    "df['Churn'] = df['Churn'].replace(({'no':0, 'yes':1}))\n",
    "df['Intl_Plan'] = df['Intl_Plan'].replace(({'no':0, 'yes':1}))\n",
    "df['Vmail_Plan'] = df['Vmail_Plan'].replace(({'no':0, 'yes':1}))\n",
    "\n",
    "display(df.head())\n",
    "print(\"\\nDataset Variable information:\\n\")\n",
    "df.info()"
   ]
  },
  {
   "cell_type": "markdown",
   "id": "82611daa",
   "metadata": {},
   "source": [
    "### Setting target and feature variables"
   ]
  },
  {
   "cell_type": "code",
   "execution_count": 7,
   "id": "b8cf3aac",
   "metadata": {},
   "outputs": [
    {
     "name": "stdout",
     "output_type": "stream",
     "text": [
      "Feature variables: (3333, 17)\n",
      "Target variables: (3333, 1)\n"
     ]
    }
   ],
   "source": [
    "X = df.drop('Churn', axis = 1)\n",
    "y = df[['Churn']]\n",
    "\n",
    "print(\"Feature variables:\" ,X.shape)\n",
    "print(\"Target variables:\" ,y.shape)"
   ]
  },
  {
   "cell_type": "markdown",
   "id": "108b49c5",
   "metadata": {},
   "source": [
    "### Checking balance of the target variable"
   ]
  },
  {
   "cell_type": "code",
   "execution_count": 8,
   "id": "92b04f06",
   "metadata": {},
   "outputs": [
    {
     "name": "stdout",
     "output_type": "stream",
     "text": [
      "0    2850\n",
      "1     483\n",
      "Name: Churn, dtype: int64\n"
     ]
    }
   ],
   "source": [
    "print(df['Churn'].value_counts())\n"
   ]
  },
  {
   "cell_type": "markdown",
   "id": "4a1ab78e",
   "metadata": {},
   "source": [
    "- The **target dataset** is highly **imbalanced**, Stratification will be helpful for training a model properly"
   ]
  },
  {
   "cell_type": "markdown",
   "id": "26cadf63",
   "metadata": {},
   "source": [
    "### One-Hot Encoding"
   ]
  },
  {
   "cell_type": "code",
   "execution_count": 9,
   "id": "7fce0dbe",
   "metadata": {},
   "outputs": [],
   "source": [
    "df = pd.get_dummies(df, drop_first=True)"
   ]
  },
  {
   "cell_type": "markdown",
   "id": "f7839553",
   "metadata": {},
   "source": [
    "### Splitting train and test datasets"
   ]
  },
  {
   "cell_type": "code",
   "execution_count": 10,
   "id": "4c212d4a",
   "metadata": {},
   "outputs": [
    {
     "name": "stdout",
     "output_type": "stream",
     "text": [
      "X_train.shape: (2333, 17) \n",
      "X_test.shape: (1000, 17) \n",
      "y_train.shape: (2333, 1) \n",
      "X_test.shape: (1000, 1)\n"
     ]
    }
   ],
   "source": [
    "X_train, X_test, y_train, y_test = train_test_split(X, y, \n",
    "                                                    train_size = 0.7, \n",
    "                                                    random_state = 42, stratify = y)\n",
    "\n",
    "print(\"X_train.shape:\",X_train.shape,\"\\nX_test.shape:\", X_test.shape,\"\\ny_train.shape:\", y_train.shape, \"\\nX_test.shape:\",y_test.shape)"
   ]
  },
  {
   "cell_type": "markdown",
   "id": "b03da1a6",
   "metadata": {},
   "source": [
    "##### Stratifaction provides same class ratio of target variable for both train and test set"
   ]
  },
  {
   "cell_type": "code",
   "execution_count": 11,
   "id": "b1907ef9",
   "metadata": {},
   "outputs": [
    {
     "name": "stdout",
     "output_type": "stream",
     "text": [
      "Training Ratio:  0.16942355889724312\n",
      "Test Ratio:  0.1695906432748538\n"
     ]
    }
   ],
   "source": [
    "def Ratio(a,b):\n",
    "    class_0 = a['Churn'].value_counts().values[0]\n",
    "    class_1 = a['Churn'].value_counts().values[1]\n",
    "\n",
    "    ratio = class_1/class_0\n",
    "    print(b,\"Ratio: \",ratio)\n",
    "    \n",
    "Ratio(y_train,\"Training\")\n",
    "Ratio(y_test,\"Test\")"
   ]
  },
  {
   "cell_type": "markdown",
   "id": "1d67760d",
   "metadata": {},
   "source": [
    "### Instantiating and fitting the model"
   ]
  },
  {
   "cell_type": "code",
   "execution_count": 12,
   "id": "5fb6cef5",
   "metadata": {},
   "outputs": [],
   "source": [
    "model = DecisionTreeClassifier()\n",
    "model = model.fit(X_train, y_train)\n",
    "\n",
    "y_pred = model.predict(X_test)"
   ]
  },
  {
   "cell_type": "code",
   "execution_count": 13,
   "id": "4a320d5c",
   "metadata": {},
   "outputs": [
    {
     "data": {
      "text/html": [
       "<div>\n",
       "<style scoped>\n",
       "    .dataframe tbody tr th:only-of-type {\n",
       "        vertical-align: middle;\n",
       "    }\n",
       "\n",
       "    .dataframe tbody tr th {\n",
       "        vertical-align: top;\n",
       "    }\n",
       "\n",
       "    .dataframe thead th {\n",
       "        text-align: right;\n",
       "    }\n",
       "</style>\n",
       "<table border=\"1\" class=\"dataframe\">\n",
       "  <thead>\n",
       "    <tr style=\"text-align: right;\">\n",
       "      <th></th>\n",
       "      <th>Churn</th>\n",
       "      <th>probability</th>\n",
       "      <th>predicted_Churn</th>\n",
       "    </tr>\n",
       "  </thead>\n",
       "  <tbody>\n",
       "    <tr>\n",
       "      <th>3260</th>\n",
       "      <td>0</td>\n",
       "      <td>0.0</td>\n",
       "      <td>0</td>\n",
       "    </tr>\n",
       "    <tr>\n",
       "      <th>2614</th>\n",
       "      <td>1</td>\n",
       "      <td>0.0</td>\n",
       "      <td>0</td>\n",
       "    </tr>\n",
       "    <tr>\n",
       "      <th>3233</th>\n",
       "      <td>0</td>\n",
       "      <td>0.0</td>\n",
       "      <td>0</td>\n",
       "    </tr>\n",
       "    <tr>\n",
       "      <th>2690</th>\n",
       "      <td>0</td>\n",
       "      <td>0.0</td>\n",
       "      <td>0</td>\n",
       "    </tr>\n",
       "    <tr>\n",
       "      <th>2148</th>\n",
       "      <td>0</td>\n",
       "      <td>0.0</td>\n",
       "      <td>0</td>\n",
       "    </tr>\n",
       "    <tr>\n",
       "      <th>2105</th>\n",
       "      <td>0</td>\n",
       "      <td>1.0</td>\n",
       "      <td>1</td>\n",
       "    </tr>\n",
       "    <tr>\n",
       "      <th>1908</th>\n",
       "      <td>0</td>\n",
       "      <td>0.0</td>\n",
       "      <td>0</td>\n",
       "    </tr>\n",
       "  </tbody>\n",
       "</table>\n",
       "</div>"
      ],
      "text/plain": [
       "      Churn  probability  predicted_Churn\n",
       "3260      0          0.0                0\n",
       "2614      1          0.0                0\n",
       "3233      0          0.0                0\n",
       "2690      0          0.0                0\n",
       "2148      0          0.0                0\n",
       "2105      0          1.0                1\n",
       "1908      0          0.0                0"
      ]
     },
     "metadata": {},
     "output_type": "display_data"
    }
   ],
   "source": [
    "y_test['probability'] = np.round(model.predict_proba(X_test)[:,1], 2)\n",
    "y_test['predicted_Churn'] = y_pred\n",
    "\n",
    "display(y_test.sample(7))"
   ]
  },
  {
   "cell_type": "code",
   "execution_count": 14,
   "id": "8b60f68d",
   "metadata": {},
   "outputs": [
    {
     "data": {
      "text/html": [
       "<div>\n",
       "<style scoped>\n",
       "    .dataframe tbody tr th:only-of-type {\n",
       "        vertical-align: middle;\n",
       "    }\n",
       "\n",
       "    .dataframe tbody tr th {\n",
       "        vertical-align: top;\n",
       "    }\n",
       "\n",
       "    .dataframe thead th {\n",
       "        text-align: right;\n",
       "    }\n",
       "</style>\n",
       "<table border=\"1\" class=\"dataframe\">\n",
       "  <thead>\n",
       "    <tr style=\"text-align: right;\">\n",
       "      <th></th>\n",
       "      <th>Account_Length</th>\n",
       "      <th>Vmail_Message</th>\n",
       "      <th>Day_Mins</th>\n",
       "      <th>Eve_Mins</th>\n",
       "      <th>Night_Mins</th>\n",
       "      <th>Intl_Mins</th>\n",
       "      <th>CustServ_Calls</th>\n",
       "      <th>Intl_Plan</th>\n",
       "      <th>Vmail_Plan</th>\n",
       "      <th>Day_Calls</th>\n",
       "      <th>Day_Charge</th>\n",
       "      <th>Eve_Calls</th>\n",
       "      <th>Eve_Charge</th>\n",
       "      <th>Night_Calls</th>\n",
       "      <th>Night_Charge</th>\n",
       "      <th>Intl_Calls</th>\n",
       "      <th>Intl_Charge</th>\n",
       "      <th>Churn</th>\n",
       "      <th>probability</th>\n",
       "      <th>predicted_Churn</th>\n",
       "    </tr>\n",
       "  </thead>\n",
       "  <tbody>\n",
       "    <tr>\n",
       "      <th>2934</th>\n",
       "      <td>24</td>\n",
       "      <td>0</td>\n",
       "      <td>149.0</td>\n",
       "      <td>131.0</td>\n",
       "      <td>238.6</td>\n",
       "      <td>8.6</td>\n",
       "      <td>2</td>\n",
       "      <td>0</td>\n",
       "      <td>0</td>\n",
       "      <td>73</td>\n",
       "      <td>25.33</td>\n",
       "      <td>81</td>\n",
       "      <td>11.14</td>\n",
       "      <td>69</td>\n",
       "      <td>10.74</td>\n",
       "      <td>3</td>\n",
       "      <td>2.32</td>\n",
       "      <td>1</td>\n",
       "      <td>0.0</td>\n",
       "      <td>0</td>\n",
       "    </tr>\n",
       "    <tr>\n",
       "      <th>767</th>\n",
       "      <td>148</td>\n",
       "      <td>26</td>\n",
       "      <td>244.9</td>\n",
       "      <td>118.0</td>\n",
       "      <td>236.0</td>\n",
       "      <td>15.2</td>\n",
       "      <td>2</td>\n",
       "      <td>0</td>\n",
       "      <td>1</td>\n",
       "      <td>150</td>\n",
       "      <td>41.63</td>\n",
       "      <td>138</td>\n",
       "      <td>10.03</td>\n",
       "      <td>91</td>\n",
       "      <td>10.62</td>\n",
       "      <td>4</td>\n",
       "      <td>4.10</td>\n",
       "      <td>0</td>\n",
       "      <td>0.0</td>\n",
       "      <td>0</td>\n",
       "    </tr>\n",
       "    <tr>\n",
       "      <th>2512</th>\n",
       "      <td>62</td>\n",
       "      <td>42</td>\n",
       "      <td>137.3</td>\n",
       "      <td>184.2</td>\n",
       "      <td>231.4</td>\n",
       "      <td>10.2</td>\n",
       "      <td>0</td>\n",
       "      <td>0</td>\n",
       "      <td>1</td>\n",
       "      <td>95</td>\n",
       "      <td>23.34</td>\n",
       "      <td>94</td>\n",
       "      <td>15.66</td>\n",
       "      <td>70</td>\n",
       "      <td>10.41</td>\n",
       "      <td>3</td>\n",
       "      <td>2.75</td>\n",
       "      <td>0</td>\n",
       "      <td>0.0</td>\n",
       "      <td>0</td>\n",
       "    </tr>\n",
       "    <tr>\n",
       "      <th>3177</th>\n",
       "      <td>84</td>\n",
       "      <td>41</td>\n",
       "      <td>153.9</td>\n",
       "      <td>140.7</td>\n",
       "      <td>217.7</td>\n",
       "      <td>12.8</td>\n",
       "      <td>1</td>\n",
       "      <td>0</td>\n",
       "      <td>1</td>\n",
       "      <td>102</td>\n",
       "      <td>26.16</td>\n",
       "      <td>117</td>\n",
       "      <td>11.96</td>\n",
       "      <td>101</td>\n",
       "      <td>9.80</td>\n",
       "      <td>5</td>\n",
       "      <td>3.46</td>\n",
       "      <td>0</td>\n",
       "      <td>0.0</td>\n",
       "      <td>0</td>\n",
       "    </tr>\n",
       "    <tr>\n",
       "      <th>2224</th>\n",
       "      <td>68</td>\n",
       "      <td>0</td>\n",
       "      <td>143.6</td>\n",
       "      <td>134.3</td>\n",
       "      <td>215.6</td>\n",
       "      <td>15.5</td>\n",
       "      <td>2</td>\n",
       "      <td>0</td>\n",
       "      <td>0</td>\n",
       "      <td>80</td>\n",
       "      <td>24.41</td>\n",
       "      <td>65</td>\n",
       "      <td>11.42</td>\n",
       "      <td>84</td>\n",
       "      <td>9.70</td>\n",
       "      <td>5</td>\n",
       "      <td>4.19</td>\n",
       "      <td>0</td>\n",
       "      <td>0.0</td>\n",
       "      <td>0</td>\n",
       "    </tr>\n",
       "  </tbody>\n",
       "</table>\n",
       "</div>"
      ],
      "text/plain": [
       "      Account_Length  Vmail_Message  Day_Mins  Eve_Mins  Night_Mins  \\\n",
       "2934              24              0     149.0     131.0       238.6   \n",
       "767              148             26     244.9     118.0       236.0   \n",
       "2512              62             42     137.3     184.2       231.4   \n",
       "3177              84             41     153.9     140.7       217.7   \n",
       "2224              68              0     143.6     134.3       215.6   \n",
       "\n",
       "      Intl_Mins  CustServ_Calls  Intl_Plan  Vmail_Plan  Day_Calls  Day_Charge  \\\n",
       "2934        8.6               2          0           0         73       25.33   \n",
       "767        15.2               2          0           1        150       41.63   \n",
       "2512       10.2               0          0           1         95       23.34   \n",
       "3177       12.8               1          0           1        102       26.16   \n",
       "2224       15.5               2          0           0         80       24.41   \n",
       "\n",
       "      Eve_Calls  Eve_Charge  Night_Calls  Night_Charge  Intl_Calls  \\\n",
       "2934         81       11.14           69         10.74           3   \n",
       "767         138       10.03           91         10.62           4   \n",
       "2512         94       15.66           70         10.41           3   \n",
       "3177        117       11.96          101          9.80           5   \n",
       "2224         65       11.42           84          9.70           5   \n",
       "\n",
       "      Intl_Charge  Churn  probability  predicted_Churn  \n",
       "2934         2.32      1          0.0                0  \n",
       "767          4.10      0          0.0                0  \n",
       "2512         2.75      0          0.0                0  \n",
       "3177         3.46      0          0.0                0  \n",
       "2224         4.19      0          0.0                0  "
      ]
     },
     "metadata": {},
     "output_type": "display_data"
    }
   ],
   "source": [
    "test = pd.concat([X_test, y_test], axis=1)\n",
    "display(test.sample(5))"
   ]
  },
  {
   "cell_type": "markdown",
   "id": "0e4a8731",
   "metadata": {},
   "source": [
    "### Decision Tree"
   ]
  },
  {
   "cell_type": "code",
   "execution_count": 15,
   "id": "49579749",
   "metadata": {},
   "outputs": [
    {
     "data": {
      "image/png": "[encoded data removed]",
      "text/plain": [
       "<Figure size 1440x1080 with 1 Axes>"
      ]
     },
     "metadata": {
      "needs_background": "light"
     },
     "output_type": "display_data"
    }
   ],
   "source": [
    "plt.figure(figsize = (20, 15))\n",
    "plot_tree(model, \n",
    "          filled=True,\n",
    "          rounded=True,\n",
    "          class_names = [\"will not churn\", \"will churn\"],\n",
    "          feature_names = X.columns,\n",
    "          max_depth=2, \n",
    "          fontsize=18)\n",
    "\n",
    "plt.show()"
   ]
  },
  {
   "cell_type": "markdown",
   "id": "f57ce20c",
   "metadata": {},
   "source": [
    "#### Confusion Matrix"
   ]
  },
  {
   "cell_type": "code",
   "execution_count": 16,
   "id": "57c8c896",
   "metadata": {},
   "outputs": [
    {
     "name": "stdout",
     "output_type": "stream",
     "text": [
      "confusion_matrix: \n",
      " [[819  36]\n",
      " [ 45 100]]\n"
     ]
    }
   ],
   "source": [
    "confusion__matrix = confusion_matrix(y_test['Churn'], \n",
    "                                     y_test['predicted_Churn'])\n",
    "\n",
    "print('confusion_matrix: \\n', confusion__matrix)"
   ]
  },
  {
   "cell_type": "code",
   "execution_count": 17,
   "id": "50f0b88e",
   "metadata": {},
   "outputs": [
    {
     "data": {
      "text/plain": [
       "0    855\n",
       "1    145\n",
       "Name: Churn, dtype: int64"
      ]
     },
     "execution_count": 17,
     "metadata": {},
     "output_type": "execute_result"
    }
   ],
   "source": [
    "y_test['Churn'].value_counts()"
   ]
  },
  {
   "cell_type": "markdown",
   "id": "f3113a85",
   "metadata": {},
   "source": [
    "#### Visualizing confusion matrix"
   ]
  },
  {
   "cell_type": "code",
   "execution_count": 18,
   "id": "2150da1e",
   "metadata": {},
   "outputs": [
    {
     "data": {
      "image/png": "[encoded data removed]",
      "text/plain": [
       "<Figure size 432x288 with 2 Axes>"
      ]
     },
     "metadata": {
      "needs_background": "light"
     },
     "output_type": "display_data"
    }
   ],
   "source": [
    "plot_confusion_matrix(model, \n",
    "                      X_test, \n",
    "                      y_test['Churn'], \n",
    "                      display_labels=[\"will not churn\", \"will churn\"],\n",
    "                      cmap='Purples')\n",
    "plt.show()"
   ]
  },
  {
   "cell_type": "markdown",
   "id": "fe05dc14",
   "metadata": {},
   "source": [
    "#### Observation\n",
    "- Out of 855 customers, 819 customers **will not churn**, were **correctly predicted**, which is **96%**\n",
    "- While 100 customers who **will churn** were **correctly predicted**, out of 145 customers. That is **69%**"
   ]
  },
  {
   "cell_type": "code",
   "execution_count": 19,
   "id": "edbac666",
   "metadata": {},
   "outputs": [
    {
     "name": "stdout",
     "output_type": "stream",
     "text": [
      "True Positives:  100\n",
      "True Negatives:  819\n",
      "False Positives:  36\n",
      "False Negatives:  45\n"
     ]
    }
   ],
   "source": [
    "TP = confusion__matrix[1,1]\n",
    "print(\"True Positives: \", TP)\n",
    "\n",
    "TN = confusion__matrix[0,0]\n",
    "print(\"True Negatives: \", TN)\n",
    "\n",
    "FP = confusion__matrix[0,1]\n",
    "print(\"False Positives: \", FP)\n",
    "\n",
    "FN = confusion__matrix[1,0]\n",
    "print(\"False Negatives: \", FN)"
   ]
  },
  {
   "cell_type": "markdown",
   "id": "9086e5cf",
   "metadata": {},
   "source": [
    "#### Observation\n",
    "- Higher value of true positives and true negatives are desired.\n",
    "- False negatives and false positives should be lower."
   ]
  },
  {
   "cell_type": "code",
   "execution_count": 20,
   "id": "7aa60660",
   "metadata": {},
   "outputs": [
    {
     "name": "stdout",
     "output_type": "stream",
     "text": [
      "Accuracy of the model = 91.9 %\n"
     ]
    }
   ],
   "source": [
    "accuracy = accuracy_score(y_test['Churn'], y_test['predicted_Churn'])\n",
    "\n",
    "print('Accuracy of the model =',np.round(accuracy*100,2), '%') "
   ]
  },
  {
   "cell_type": "markdown",
   "id": "5d2fc4d3",
   "metadata": {},
   "source": [
    "#### Classification metrices calculation"
   ]
  },
  {
   "cell_type": "code",
   "execution_count": 21,
   "id": "2b297a7b",
   "metadata": {},
   "outputs": [],
   "source": [
    "def measure(m):\n",
    "    m = m(y_test['Churn'], y_test['predicted_Churn'])\n",
    "    return np.round(m*100,2)"
   ]
  },
  {
   "cell_type": "code",
   "execution_count": 22,
   "id": "a8dc38ec",
   "metadata": {},
   "outputs": [
    {
     "name": "stdout",
     "output_type": "stream",
     "text": [
      "precision_score:  73.53 %\n",
      "recall_score:  68.97 %\n",
      "f1_score:  71.17 %\n"
     ]
    }
   ],
   "source": [
    "print(\"precision_score: \", measure(precision_score), \"%\")\n",
    "print(\"recall_score: \", measure(recall_score), \"%\")\n",
    "print(\"f1_score: \", measure(f1_score), \"%\")"
   ]
  },
  {
   "cell_type": "markdown",
   "id": "91614ad9",
   "metadata": {},
   "source": [
    "- **Precision:**\n",
    "Precision is the ratio of true positives to the sum of true and false positives.<br>\n",
    "- **Recall:**\n",
    "Recall is the ratio of true positives to the sum of true positives and false negatives. <br>\n",
    "- **F1 score:**\n",
    "The F1 score is a weighted harmonic mean of precision and recall (varies between 0 to 1).<br>\n",
    "- **Support:**\n",
    "Support is the number of actual occurrences of the class in the specified dataset."
   ]
  },
  {
   "cell_type": "markdown",
   "id": "f48e5d07",
   "metadata": {},
   "source": [
    "#### Classification report"
   ]
  },
  {
   "cell_type": "code",
   "execution_count": 23,
   "id": "c5b2484c",
   "metadata": {},
   "outputs": [
    {
     "name": "stdout",
     "output_type": "stream",
     "text": [
      "Classification Report: \n",
      "               precision    recall  f1-score   support\n",
      "\n",
      "           0       0.95      0.96      0.95       855\n",
      "           1       0.74      0.69      0.71       145\n",
      "\n",
      "    accuracy                           0.92      1000\n",
      "   macro avg       0.84      0.82      0.83      1000\n",
      "weighted avg       0.92      0.92      0.92      1000\n",
      "\n"
     ]
    }
   ],
   "source": [
    "class_report = classification_report(y_test['Churn'], \n",
    "                                     y_test['predicted_Churn'])\n",
    "print(\"Classification Report: \\n\", class_report)"
   ]
  },
  {
   "cell_type": "markdown",
   "id": "18006dc7",
   "metadata": {},
   "source": [
    "- *Classification report gives the summary layout of the classification metrices*\n",
    "> The model accuracy is approximately **92%**.<br> But the **precision, recall and f1 scores** are **quite low**. They are **0.74, 0.69 abd 0.71** respectively. The model sill requires \n",
    "improvement"
   ]
  },
  {
   "cell_type": "markdown",
   "id": "6f3b1ebe",
   "metadata": {},
   "source": [
    "#### Receiver Operating Characterisitcs (ROC) and Area Under the Curve (AUC)"
   ]
  },
  {
   "cell_type": "code",
   "execution_count": 24,
   "id": "5739484b",
   "metadata": {},
   "outputs": [
    {
     "data": {
      "image/png": "[encoded data removed]",
      "text/plain": [
       "<Figure size 720x576 with 1 Axes>"
      ]
     },
     "metadata": {
      "needs_background": "light"
     },
     "output_type": "display_data"
    }
   ],
   "source": [
    "fpr, tpr, thr = roc_curve(y_test['Churn'], \n",
    "                          y_test['probability'])\n",
    "auc = np.round(roc_auc_score(y_test['Churn'], \n",
    "                             y_test['predicted_Churn']), 2)\n",
    "\n",
    "plt.figure(figsize=(10, 8))\n",
    "plt.plot(fpr, \n",
    "         tpr, \n",
    "         color='green', \n",
    "         lw=2, \n",
    "         label=\"Curve Area = \" +str(auc))\n",
    "\n",
    "plt.plot([0, 1], [0, 1], color='blue', lw=2, linestyle='--')\n",
    "plt.xlabel('False Positive Rate (FPR)')\n",
    "plt.ylabel('True Positive Rate (TPR)')\n",
    "plt.title('ROC curve')\n",
    "plt.legend(loc=\"lower right\")\n",
    "plt.show()\n",
    "\n"
   ]
  },
  {
   "cell_type": "markdown",
   "id": "8dadd269",
   "metadata": {},
   "source": [
    "#### Observation\n",
    "- The AUC is the measure of the ability of a classifier to distinguish between classes.\n",
    "- The higher the AUC, the better the performance of the model at distinguishing between the positive and negative classes.\n",
    "- Here the AUC is 0.82, which is acceptable but requires improvement."
   ]
  },
  {
   "cell_type": "markdown",
   "id": "9f35fa4b",
   "metadata": {},
   "source": [
    "### Grid Search"
   ]
  },
  {
   "cell_type": "code",
   "execution_count": 25,
   "id": "65c20930",
   "metadata": {},
   "outputs": [],
   "source": [
    "parameters = {'criterion': ['gini','entropy'],\n",
    "              'max_depth': [3, 4, 5, 6, 7]}\n",
    "\n",
    "model = DecisionTreeClassifier(random_state=42)\n",
    "grid_search = GridSearchCV(estimator=model,\n",
    "                           param_grid=parameters,\n",
    "                           scoring=\"accuracy\",\n",
    "                           cv=5,\n",
    "                           n_jobs=-1)\n",
    "\n",
    "# fit the model with the best hyper-parameters\n",
    "grid_result = grid_search.fit(X_train, y_train)\n",
    "y_pred = np.round(grid_result.predict(X_test), 2)"
   ]
  },
  {
   "cell_type": "markdown",
   "id": "210a4633",
   "metadata": {},
   "source": [
    "#### hyperparameters for grid search in each iteration\n",
    "- iteration 1: criterion='gini', max_depth=3\n",
    "- iteration 2: criterion='gini', max_depth=4\n",
    "- iteration 3: criterion='gini', max_depth=5\n",
    "- iteration 4: criterion='gini', max_depth=6\n",
    "- iteration 5: criterion='gini', max_depth=7\n",
    "- iteration 6: criterion='entropy', max_depth=3\n",
    "- iteration 7: criterion='entropy', max_depth=4\n",
    "- iteration 8: criterion='entropy', max_depth=5\n",
    "- iteration 9: criterion='entropy', max_depth=6\n",
    "- iteration 10: criterion='entropy', max_depth=7"
   ]
  },
  {
   "cell_type": "code",
   "execution_count": 26,
   "id": "8704e757",
   "metadata": {},
   "outputs": [
    {
     "name": "stdout",
     "output_type": "stream",
     "text": [
      "{'criterion': 'entropy', 'max_depth': 6}\n"
     ]
    }
   ],
   "source": [
    "print(grid_result.best_params_)"
   ]
  },
  {
   "cell_type": "markdown",
   "id": "220f7f40",
   "metadata": {},
   "source": [
    "### Cross Validation"
   ]
  },
  {
   "cell_type": "code",
   "execution_count": 27,
   "id": "bea3cb99",
   "metadata": {},
   "outputs": [
    {
     "data": {
      "text/html": [
       "<div>\n",
       "<style scoped>\n",
       "    .dataframe tbody tr th:only-of-type {\n",
       "        vertical-align: middle;\n",
       "    }\n",
       "\n",
       "    .dataframe tbody tr th {\n",
       "        vertical-align: top;\n",
       "    }\n",
       "\n",
       "    .dataframe thead th {\n",
       "        text-align: right;\n",
       "    }\n",
       "</style>\n",
       "<table border=\"1\" class=\"dataframe\">\n",
       "  <thead>\n",
       "    <tr style=\"text-align: right;\">\n",
       "      <th></th>\n",
       "      <th>param_criterion</th>\n",
       "      <th>param_max_depth</th>\n",
       "      <th>split0_test_score</th>\n",
       "      <th>split1_test_score</th>\n",
       "      <th>split2_test_score</th>\n",
       "      <th>split3_test_score</th>\n",
       "      <th>split4_test_score</th>\n",
       "      <th>mean_test_score</th>\n",
       "      <th>std_test_score</th>\n",
       "      <th>rank_test_score</th>\n",
       "    </tr>\n",
       "  </thead>\n",
       "  <tbody>\n",
       "    <tr>\n",
       "      <th>8</th>\n",
       "      <td>entropy</td>\n",
       "      <td>6</td>\n",
       "      <td>0.944325</td>\n",
       "      <td>0.925054</td>\n",
       "      <td>0.946467</td>\n",
       "      <td>0.954936</td>\n",
       "      <td>0.920601</td>\n",
       "      <td>0.938276</td>\n",
       "      <td>0.013179</td>\n",
       "      <td>1</td>\n",
       "    </tr>\n",
       "    <tr>\n",
       "      <th>4</th>\n",
       "      <td>gini</td>\n",
       "      <td>7</td>\n",
       "      <td>0.940043</td>\n",
       "      <td>0.925054</td>\n",
       "      <td>0.929336</td>\n",
       "      <td>0.957082</td>\n",
       "      <td>0.937768</td>\n",
       "      <td>0.937856</td>\n",
       "      <td>0.011054</td>\n",
       "      <td>2</td>\n",
       "    </tr>\n",
       "    <tr>\n",
       "      <th>2</th>\n",
       "      <td>gini</td>\n",
       "      <td>5</td>\n",
       "      <td>0.937901</td>\n",
       "      <td>0.914347</td>\n",
       "      <td>0.946467</td>\n",
       "      <td>0.946352</td>\n",
       "      <td>0.942060</td>\n",
       "      <td>0.937425</td>\n",
       "      <td>0.011965</td>\n",
       "      <td>3</td>\n",
       "    </tr>\n",
       "    <tr>\n",
       "      <th>9</th>\n",
       "      <td>entropy</td>\n",
       "      <td>7</td>\n",
       "      <td>0.933619</td>\n",
       "      <td>0.927195</td>\n",
       "      <td>0.946467</td>\n",
       "      <td>0.931330</td>\n",
       "      <td>0.942060</td>\n",
       "      <td>0.936134</td>\n",
       "      <td>0.007088</td>\n",
       "      <td>4</td>\n",
       "    </tr>\n",
       "    <tr>\n",
       "      <th>3</th>\n",
       "      <td>gini</td>\n",
       "      <td>6</td>\n",
       "      <td>0.940043</td>\n",
       "      <td>0.925054</td>\n",
       "      <td>0.940043</td>\n",
       "      <td>0.944206</td>\n",
       "      <td>0.924893</td>\n",
       "      <td>0.934848</td>\n",
       "      <td>0.008205</td>\n",
       "      <td>5</td>\n",
       "    </tr>\n",
       "    <tr>\n",
       "      <th>7</th>\n",
       "      <td>entropy</td>\n",
       "      <td>5</td>\n",
       "      <td>0.940043</td>\n",
       "      <td>0.912206</td>\n",
       "      <td>0.940043</td>\n",
       "      <td>0.937768</td>\n",
       "      <td>0.937768</td>\n",
       "      <td>0.933566</td>\n",
       "      <td>0.010728</td>\n",
       "      <td>6</td>\n",
       "    </tr>\n",
       "    <tr>\n",
       "      <th>1</th>\n",
       "      <td>gini</td>\n",
       "      <td>4</td>\n",
       "      <td>0.907923</td>\n",
       "      <td>0.914347</td>\n",
       "      <td>0.935760</td>\n",
       "      <td>0.916309</td>\n",
       "      <td>0.918455</td>\n",
       "      <td>0.918559</td>\n",
       "      <td>0.009293</td>\n",
       "      <td>7</td>\n",
       "    </tr>\n",
       "    <tr>\n",
       "      <th>6</th>\n",
       "      <td>entropy</td>\n",
       "      <td>4</td>\n",
       "      <td>0.907923</td>\n",
       "      <td>0.914347</td>\n",
       "      <td>0.929336</td>\n",
       "      <td>0.916309</td>\n",
       "      <td>0.916309</td>\n",
       "      <td>0.916845</td>\n",
       "      <td>0.006963</td>\n",
       "      <td>8</td>\n",
       "    </tr>\n",
       "    <tr>\n",
       "      <th>0</th>\n",
       "      <td>gini</td>\n",
       "      <td>3</td>\n",
       "      <td>0.886510</td>\n",
       "      <td>0.905782</td>\n",
       "      <td>0.920771</td>\n",
       "      <td>0.894850</td>\n",
       "      <td>0.899142</td>\n",
       "      <td>0.901411</td>\n",
       "      <td>0.011525</td>\n",
       "      <td>9</td>\n",
       "    </tr>\n",
       "    <tr>\n",
       "      <th>5</th>\n",
       "      <td>entropy</td>\n",
       "      <td>3</td>\n",
       "      <td>0.886510</td>\n",
       "      <td>0.905782</td>\n",
       "      <td>0.907923</td>\n",
       "      <td>0.894850</td>\n",
       "      <td>0.873391</td>\n",
       "      <td>0.893691</td>\n",
       "      <td>0.012757</td>\n",
       "      <td>10</td>\n",
       "    </tr>\n",
       "  </tbody>\n",
       "</table>\n",
       "</div>"
      ],
      "text/plain": [
       "  param_criterion param_max_depth  split0_test_score  split1_test_score  \\\n",
       "8         entropy               6           0.944325           0.925054   \n",
       "4            gini               7           0.940043           0.925054   \n",
       "2            gini               5           0.937901           0.914347   \n",
       "9         entropy               7           0.933619           0.927195   \n",
       "3            gini               6           0.940043           0.925054   \n",
       "7         entropy               5           0.940043           0.912206   \n",
       "1            gini               4           0.907923           0.914347   \n",
       "6         entropy               4           0.907923           0.914347   \n",
       "0            gini               3           0.886510           0.905782   \n",
       "5         entropy               3           0.886510           0.905782   \n",
       "\n",
       "   split2_test_score  split3_test_score  split4_test_score  mean_test_score  \\\n",
       "8           0.946467           0.954936           0.920601         0.938276   \n",
       "4           0.929336           0.957082           0.937768         0.937856   \n",
       "2           0.946467           0.946352           0.942060         0.937425   \n",
       "9           0.946467           0.931330           0.942060         0.936134   \n",
       "3           0.940043           0.944206           0.924893         0.934848   \n",
       "7           0.940043           0.937768           0.937768         0.933566   \n",
       "1           0.935760           0.916309           0.918455         0.918559   \n",
       "6           0.929336           0.916309           0.916309         0.916845   \n",
       "0           0.920771           0.894850           0.899142         0.901411   \n",
       "5           0.907923           0.894850           0.873391         0.893691   \n",
       "\n",
       "   std_test_score  rank_test_score  \n",
       "8        0.013179                1  \n",
       "4        0.011054                2  \n",
       "2        0.011965                3  \n",
       "9        0.007088                4  \n",
       "3        0.008205                5  \n",
       "7        0.010728                6  \n",
       "1        0.009293                7  \n",
       "6        0.006963                8  \n",
       "0        0.011525                9  \n",
       "5        0.012757               10  "
      ]
     },
     "metadata": {},
     "output_type": "display_data"
    },
    {
     "name": "stdout",
     "output_type": "stream",
     "text": [
      "Index(['param_criterion', 'param_max_depth', 'split0_test_score',\n",
      "       'split1_test_score', 'split2_test_score', 'split3_test_score',\n",
      "       'split4_test_score', 'mean_test_score', 'std_test_score',\n",
      "       'rank_test_score'],\n",
      "      dtype='object')\n"
     ]
    }
   ],
   "source": [
    "cv_result = pd.DataFrame(grid_result.cv_results_)\n",
    "cv_result = cv_result[['param_criterion', 'param_max_depth',\n",
    "                       'split0_test_score',\n",
    "                       'split1_test_score', 'split2_test_score', 'split3_test_score',\n",
    "                       'split4_test_score', 'mean_test_score', 'std_test_score',\n",
    "                       'rank_test_score']]\n",
    "cv_result = cv_result.sort_values(by='rank_test_score')\n",
    "display(cv_result)\n",
    "print(cv_result.columns)"
   ]
  },
  {
   "cell_type": "markdown",
   "id": "0f0d2c38",
   "metadata": {},
   "source": [
    "### Model Performance Evalutation after Grid Search and Cross Validation"
   ]
  },
  {
   "cell_type": "markdown",
   "id": "63e32218",
   "metadata": {},
   "source": [
    "#### Visualizing confusion matrix"
   ]
  },
  {
   "cell_type": "code",
   "execution_count": 28,
   "id": "b39b5bae",
   "metadata": {},
   "outputs": [
    {
     "data": {
      "image/png": "[encoded data removed]",
      "text/plain": [
       "<Figure size 432x288 with 2 Axes>"
      ]
     },
     "metadata": {
      "needs_background": "light"
     },
     "output_type": "display_data"
    }
   ],
   "source": [
    "plot_confusion_matrix(grid_result, \n",
    "                      X_test, \n",
    "                      y_test['Churn'], \n",
    "                      display_labels=[\"will not churn\", \"will churn\"],\n",
    "                      cmap='Purples')\n",
    "plt.show()"
   ]
  },
  {
   "cell_type": "markdown",
   "id": "e0722e69",
   "metadata": {},
   "source": [
    "#### Classification metrices calculation"
   ]
  },
  {
   "cell_type": "code",
   "execution_count": 29,
   "id": "55bd9344",
   "metadata": {},
   "outputs": [],
   "source": [
    "def measure(m):\n",
    "    m = m(y_test['Churn'], y_pred)\n",
    "    return np.round(m*100,2)"
   ]
  },
  {
   "cell_type": "code",
   "execution_count": 30,
   "id": "792bcb59",
   "metadata": {},
   "outputs": [
    {
     "name": "stdout",
     "output_type": "stream",
     "text": [
      "precision_score:  84.55 %\n",
      "recall_score:  71.72 %\n",
      "f1_score:  77.61 %\n"
     ]
    }
   ],
   "source": [
    "print(\"precision_score: \", measure(precision_score), \"%\")\n",
    "print(\"recall_score: \", measure(recall_score), \"%\")\n",
    "print(\"f1_score: \", measure(f1_score), \"%\")"
   ]
  },
  {
   "cell_type": "markdown",
   "id": "39aa5b08",
   "metadata": {},
   "source": [
    "#### Classification report"
   ]
  },
  {
   "cell_type": "code",
   "execution_count": 31,
   "id": "e1f54e64",
   "metadata": {},
   "outputs": [
    {
     "name": "stdout",
     "output_type": "stream",
     "text": [
      "Classification Report: \n",
      "               precision    recall  f1-score   support\n",
      "\n",
      "           0       0.95      0.98      0.97       855\n",
      "           1       0.85      0.72      0.78       145\n",
      "\n",
      "    accuracy                           0.94      1000\n",
      "   macro avg       0.90      0.85      0.87      1000\n",
      "weighted avg       0.94      0.94      0.94      1000\n",
      "\n"
     ]
    }
   ],
   "source": [
    "class_report = classification_report(y_test['Churn'], y_pred)\n",
    "print(\"Classification Report: \\n\", class_report)"
   ]
  },
  {
   "cell_type": "markdown",
   "id": "1e548d6c",
   "metadata": {},
   "source": [
    "- *Classification report gives the summary layout of the classification metrices*\n",
    "> The model accuracy is approximately **94%**.<br> And the precision, recall and f1 scores **increased to 0.85, 0.72 and 0.78** respectively."
   ]
  },
  {
   "cell_type": "markdown",
   "id": "33abc66c",
   "metadata": {},
   "source": [
    "#### Receiver Operating Characterisitcs (ROC) and Area Under the Curve (AUC)"
   ]
  },
  {
   "cell_type": "code",
   "execution_count": 32,
   "id": "cdec8bba",
   "metadata": {},
   "outputs": [
    {
     "data": {
      "image/png": "[encoded data removed]",
      "text/plain": [
       "<Figure size 720x576 with 1 Axes>"
      ]
     },
     "metadata": {
      "needs_background": "light"
     },
     "output_type": "display_data"
    }
   ],
   "source": [
    "fpr, tpr, thr = roc_curve(y_test['Churn'], grid_result.predict_proba(X_test)[:,1])\n",
    "auc = np.round(roc_auc_score(y_test['Churn'], y_pred), 2)\n",
    "\n",
    "plt.figure(figsize=(10, 8))\n",
    "plt.plot(fpr, \n",
    "         tpr, \n",
    "         color='green', \n",
    "         lw=2, \n",
    "         label=\"Curve Area = \" +str(auc))\n",
    "\n",
    "plt.plot([0, 1], [0, 1], color='blue', lw=2, linestyle='--')\n",
    "plt.xlabel('False Positive Rate (FPR)')\n",
    "plt.ylabel('True Positive Rate (TPR)')\n",
    "plt.title('ROC curve')\n",
    "plt.legend(loc=\"lower right\")\n",
    "plt.show()"
   ]
  },
  {
   "cell_type": "markdown",
   "id": "0c0dbb91",
   "metadata": {},
   "source": [
    "#### Observation\n",
    "- The AUC has increased to 0.85\n",
    "- Accuracy, AUC, Classification metrices, all increased after performing the grid search and cross validation."
   ]
  },
  {
   "cell_type": "markdown",
   "id": "398ef24f",
   "metadata": {},
   "source": [
    "#### Outcome:\n",
    "> Accuracy of the model is 94%, AUC is 0.85 and the precision, recall, and f1 score are 0.85, 0.72, and 0.78 respectively."
   ]
  }
 ],
 "metadata": {
  "kernelspec": {
   "display_name": "Python 3",
   "language": "python",
   "name": "python3"
  },
  "language_info": {
   "codemirror_mode": {
    "name": "ipython",
    "version": 3
   },
   "file_extension": ".py",
   "mimetype": "text/x-python",
   "name": "python",
   "nbconvert_exporter": "python",
   "pygments_lexer": "ipython3",
   "version": "3.8.8"
  }
 },
 "nbformat": 4,
 "nbformat_minor": 5
}
